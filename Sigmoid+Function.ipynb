{
 "cells": [
  {
   "cell_type": "code",
   "execution_count": 1,
   "metadata": {},
   "outputs": [
    {
     "data": {
      "image/png": "[encoded data removed]",
      "text/plain": [
       "<matplotlib.figure.Figure at 0x104eb08d0>"
      ]
     },
     "metadata": {},
     "output_type": "display_data"
    }
   ],
   "source": [
    "import matplotlib.pyplot as plt\n",
    "import numpy as np\n",
    "\n",
    "#シグモイド関数を定義\n",
    "def sigmoid(z):\n",
    "    return 1.0/(1.0+np.exp(-z))\n",
    "\n",
    "#0.1間で-7以上7未満のデータを生成\n",
    "z = np.arange(-7,7,0.1)\n",
    "#生成したデータでシグモイド関数を実行\n",
    "phi_z = sigmoid(z)\n",
    "#元のデータとシグモイド関数の出力をプロット\n",
    "plt.plot(z,phi_z)\n",
    "#垂直線を追加(z=0)\n",
    "plt.axvline(0.0,color='k')\n",
    "#y軸の上限/下限を設定\n",
    "plt.ylim(-0.1,1.1)\n",
    "#軸のラベルを設定\n",
    "plt.xlabel('z')\n",
    "plt.ylabel('$/phi (z)$')\n",
    "#y軸の目盛を追加\n",
    "plt.yticks([0.0,0.5,1.0])\n",
    "#Axesクラスのオブジェクトの取得\n",
    "ax = plt.gca()\n",
    "#y軸の目盛に合わせて水平グリッド線を追加\n",
    "ax.yaxis.grid(True)\n",
    "#グラフを表示\n",
    "plt.show()"
   ]
  },
  {
   "cell_type": "code",
   "execution_count": null,
   "metadata": {
    "collapsed": true
   },
   "outputs": [],
   "source": []
  }
 ],
 "metadata": {
  "kernelspec": {
   "display_name": "Python 3",
   "language": "python",
   "name": "python3"
  },
  "language_info": {
   "codemirror_mode": {
    "name": "ipython",
    "version": 3
   },
   "file_extension": ".py",
   "mimetype": "text/x-python",
   "name": "python",
   "nbconvert_exporter": "python",
   "pygments_lexer": "ipython3",
   "version": "3.6.2"
  }
 },
 "nbformat": 4,
 "nbformat_minor": 2
}
